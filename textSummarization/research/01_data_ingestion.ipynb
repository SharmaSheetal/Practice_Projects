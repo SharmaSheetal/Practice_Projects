{
 "cells": [
  {
   "cell_type": "code",
   "execution_count": 1,
   "id": "8d396a38",
   "metadata": {},
   "outputs": [],
   "source": [
    "import os"
   ]
  },
  {
   "cell_type": "code",
   "execution_count": 2,
   "id": "be5f0611",
   "metadata": {},
   "outputs": [
    {
     "data": {
      "text/plain": [
       "'/Users/sheetal/Desktop/Study/NLP/Projects/textSummarization/research'"
      ]
     },
     "execution_count": 2,
     "metadata": {},
     "output_type": "execute_result"
    }
   ],
   "source": [
    "%pwd"
   ]
  },
  {
   "cell_type": "code",
   "execution_count": null,
   "id": "538e8b30",
   "metadata": {},
   "outputs": [],
   "source": []
  },
  {
   "cell_type": "code",
   "execution_count": 3,
   "id": "bf6481ba",
   "metadata": {},
   "outputs": [],
   "source": [
    "os.chdir(\"/Users/sheetal/Desktop/Study/NLP/Projects/textSummarization\")"
   ]
  },
  {
   "cell_type": "code",
   "execution_count": 4,
   "id": "4a809cd2",
   "metadata": {},
   "outputs": [
    {
     "data": {
      "text/plain": [
       "'/Users/sheetal/Desktop/Study/NLP/Projects/textSummarization'"
      ]
     },
     "execution_count": 4,
     "metadata": {},
     "output_type": "execute_result"
    }
   ],
   "source": [
    "%pwd"
   ]
  },
  {
   "cell_type": "code",
   "execution_count": 5,
   "id": "66ba01eb",
   "metadata": {},
   "outputs": [],
   "source": [
    "\"\"\"\n",
    "This block will go in the entity module.\n",
    "It defines the DataIngestionConfig class, which is used to configure data ingestion settings.\n",
    "This class is frozen, meaning its instances are immutable after creation.\n",
    "\"\"\"\n",
    "from dataclasses import dataclass\n",
    "from pathlib import Path\n",
    "@dataclass(frozen=True)\n",
    "class DataIngestionConfig:\n",
    "    root_dir: Path\n",
    "    source_URL: str\n",
    "    local_data_file: Path\n",
    "    unzip_dir: Path"
   ]
  },
  {
   "cell_type": "code",
   "execution_count": 6,
   "id": "d9428af4",
   "metadata": {},
   "outputs": [],
   "source": [
    "from textSummarizer.constants import *\n",
    "from textSummarizer.utils.common import read_yaml, create_directories\n"
   ]
  },
  {
   "cell_type": "code",
   "execution_count": null,
   "id": "a5ec4b7f",
   "metadata": {},
   "outputs": [],
   "source": [
    "\"\"\"\n",
    "This block will go in the configuration module.\n",
    "It defines the ConfigurationManager class, which is responsible for managing configuration settings.\n",
    "It reads configuration from YAML files and provides methods to access specific configurations.\n",
    "\"\"\"\n",
    "class ConfigurationManager:\n",
    "    def __init__(\n",
    "        self,\n",
    "        config_filepath = CONFIG_FILE_PATH,\n",
    "        params_filepath = PARAMS_FILE_PATH):\n",
    "\n",
    "        self.config = read_yaml(config_filepath)\n",
    "        self.params = read_yaml(params_filepath)\n",
    "\n",
    "        create_directories([self.config.artifacts_root])\n",
    "\n",
    "    \n",
    "\n",
    "    def get_data_ingestion_config(self) -> DataIngestionConfig:\n",
    "        config = self.config.data_ingestion\n",
    "\n",
    "        create_directories([config.root_dir])\n",
    "\n",
    "        data_ingestion_config = DataIngestionConfig(\n",
    "            root_dir=config.root_dir,\n",
    "            source_URL=config.source_URL,\n",
    "            local_data_file=config.local_data_file,\n",
    "            unzip_dir=config.unzip_dir \n",
    "        )\n",
    "\n",
    "        return data_ingestion_config"
   ]
  },
  {
   "cell_type": "code",
   "execution_count": null,
   "id": "adf6495a",
   "metadata": {},
   "outputs": [],
   "source": []
  },
  {
   "cell_type": "code",
   "execution_count": 8,
   "id": "3a8610f3",
   "metadata": {},
   "outputs": [],
   "source": [
    "import os\n",
    "import urllib.request as request\n",
    "import zipfile\n",
    "from textSummarizer.utils.common import get_size\n",
    "from textSummarizer.logging import logger\n"
   ]
  },
  {
   "cell_type": "code",
   "execution_count": 9,
   "id": "c20acc92",
   "metadata": {},
   "outputs": [],
   "source": [
    "\"\"\"\n",
    "This block will go in the component.\n",
    "It defines the DataIngestion class, which is responsible for downloading and extracting data files.\n",
    "It uses the DataIngestionConfig class to access configuration settings.\n",
    "\"\"\"\n",
    "class DataIngestion:\n",
    "    def __init__(self, config: DataIngestionConfig):\n",
    "        self.config = config\n",
    "        \n",
    "    def download_file(self):\n",
    "        if not os.path.exists(self.config.local_data_file) or get_size(self.config.local_data_path) == 0:\n",
    "            filename,header=request.urlretrieve(\n",
    "                url=self.config.source_URL,\n",
    "                filename=self.config.local_data_file\n",
    "            )\n",
    "            logger.info(f\"Downloaded file: {filename} with headers: {header}\")\n",
    "        else:\n",
    "            logger.info(f\"File already exists of size {get_size(self.config.local_data_file)}\")\n",
    "    def extract_zip_file(self):\n",
    "        unzip_dir = self.config.unzip_dir\n",
    "        os.makedirs(unzip_dir, exist_ok=True)\n",
    "        with zipfile.ZipFile(self.config.local_data_file, 'r') as zip_ref:\n",
    "            zip_ref.extractall(unzip_dir)\n",
    "        logger.info(f\"Extracted zip file to {unzip_dir}\")"
   ]
  },
  {
   "cell_type": "code",
   "execution_count": null,
   "id": "f31d3ab8",
   "metadata": {},
   "outputs": [
    {
     "name": "stdout",
     "output_type": "stream",
     "text": [
      "[2025-06-10 14:05:48,335: INFO: common: YAML file config/config.yaml loaded successfully.]\n",
      "[2025-06-10 14:05:48,336: INFO: common: YAML file params.yaml loaded successfully.]\n",
      "Directory already exists: artifacts\n",
      "1\n",
      "**************************************************\n",
      "Directory already exists: artifacts/data_ingestion\n",
      "2\n",
      "3\n",
      "[2025-06-10 14:05:49,587: INFO: 2097861503: Downloaded file: artifacts/data_ingestion/data.zip with headers: Connection: close\n",
      "Content-Length: 7903594\n",
      "Cache-Control: max-age=300\n",
      "Content-Security-Policy: default-src 'none'; style-src 'unsafe-inline'; sandbox\n",
      "Content-Type: application/zip\n",
      "ETag: \"dbc016a060da18070593b83afff580c9b300f0b6ea4147a7988433e04df246ca\"\n",
      "Strict-Transport-Security: max-age=31536000\n",
      "X-Content-Type-Options: nosniff\n",
      "X-Frame-Options: deny\n",
      "X-XSS-Protection: 1; mode=block\n",
      "X-GitHub-Request-Id: 9219:1993B3:7098B6:84021B:68488FCD\n",
      "Accept-Ranges: bytes\n",
      "Date: Tue, 10 Jun 2025 20:05:48 GMT\n",
      "Via: 1.1 varnish\n",
      "X-Served-By: cache-den-kden1300042-DEN\n",
      "X-Cache: HIT\n",
      "X-Cache-Hits: 0\n",
      "X-Timer: S1749585949.903848,VS0,VE1\n",
      "Vary: Authorization,Accept-Encoding\n",
      "Access-Control-Allow-Origin: *\n",
      "Cross-Origin-Resource-Policy: cross-origin\n",
      "X-Fastly-Request-ID: ef30fd8989bbc41734fb3008c6b654094f5f9959\n",
      "Expires: Tue, 10 Jun 2025 20:10:48 GMT\n",
      "Source-Age: 77\n",
      "\n",
      "]\n",
      "4\n",
      "[2025-06-10 14:05:49,684: INFO: 2097861503: Extracted zip file to artifacts/data_ingestion/]\n",
      "5\n"
     ]
    }
   ],
   "source": [
    "try:\n",
    "    config= ConfigurationManager()\n",
    "\n",
    "    data_ingestion_config = config.get_data_ingestion_config()\n",
    "    data_ingestion= DataIngestion(config=data_ingestion_config)\n",
    "    data_ingestion.download_file()\n",
    "    data_ingestion.extract_zip_file()\n",
    "except Exception as e:\n",
    "    logger.exception(e)\n",
    "    raise e"
   ]
  },
  {
   "cell_type": "code",
   "execution_count": null,
   "id": "b8f26bd1",
   "metadata": {},
   "outputs": [],
   "source": []
  },
  {
   "cell_type": "code",
   "execution_count": null,
   "id": "f22d77a6",
   "metadata": {},
   "outputs": [],
   "source": []
  }
 ],
 "metadata": {
  "kernelspec": {
   "display_name": "textS",
   "language": "python",
   "name": "python3"
  },
  "language_info": {
   "codemirror_mode": {
    "name": "ipython",
    "version": 3
   },
   "file_extension": ".py",
   "mimetype": "text/x-python",
   "name": "python",
   "nbconvert_exporter": "python",
   "pygments_lexer": "ipython3",
   "version": "3.8.20"
  }
 },
 "nbformat": 4,
 "nbformat_minor": 5
}
